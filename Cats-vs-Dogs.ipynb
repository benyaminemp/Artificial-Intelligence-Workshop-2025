{
 "cells": [
  {
   "cell_type": "markdown",
   "id": "e0ad83a1",
   "metadata": {},
   "source": [
    "# 🐱🐶 Cats vs Dogs Image Classification in Python\n",
    "### ✅ Step 1: Install Required Libraries (if not already installed)"
   ]
  },
  {
   "cell_type": "code",
   "execution_count": 1,
   "id": "ad554b7d",
   "metadata": {},
   "outputs": [
    {
     "name": "stdout",
     "output_type": "stream",
     "text": [
      "^C\n"
     ]
    }
   ],
   "source": [
    "!pip install tensorflow matplotlib"
   ]
  },
  {
   "cell_type": "markdown",
   "id": "abe946b8",
   "metadata": {},
   "source": [
    "### Step 2: Import the libraries"
   ]
  },
  {
   "cell_type": "code",
   "execution_count": null,
   "id": "38e4b523",
   "metadata": {},
   "outputs": [],
   "source": [
    "import tensorflow as tf\n",
    "import matplotlib.pyplot as plt"
   ]
  },
  {
   "cell_type": "markdown",
   "id": "f8b2f443",
   "metadata": {},
   "source": [
    "### Step 3: Import the labelled data"
   ]
  },
  {
   "cell_type": "code",
   "execution_count": null,
   "id": "15ad2548",
   "metadata": {},
   "outputs": [],
   "source": [
    "# Load the Cats vs Dogs dataset\n",
    "(train_ds, val_ds), ds_info = tf.keras.utils.image_dataset_from_directory(\n",
    "    \"path/to/your/cats_and_dogs\",  # Replace with the path to your dataset folder\n",
    "    validation_split=0.2,\n",
    "    subset=\"both\",\n",
    "    seed=123,\n",
    "    image_size=(180, 180),\n",
    "    batch_size=32\n",
    ")"
   ]
  },
  {
   "cell_type": "markdown",
   "id": "6f87bea3",
   "metadata": {},
   "source": [
    "### Preview some images"
   ]
  },
  {
   "cell_type": "code",
   "execution_count": null,
   "id": "85d42664",
   "metadata": {},
   "outputs": [],
   "source": [
    "\n",
    "class_names = train_ds.class_names\n",
    "plt.figure(figsize=(10, 10))\n",
    "for images, labels in train_ds.take(1):\n",
    "    for i in range(9):\n",
    "        ax = plt.subplot(3, 3, i + 1)\n",
    "        plt.imshow(images[i].numpy().astype(\"uint8\"))\n",
    "        plt.title(class_names[labels[i]])\n",
    "        plt.axis(\"off\")\n",
    "plt.show()"
   ]
  },
  {
   "cell_type": "markdown",
   "id": "92e8fcf9",
   "metadata": {},
   "source": [
    "### Step 4: Configure dataset for performance"
   ]
  },
  {
   "cell_type": "code",
   "execution_count": null,
   "id": "58c798c4",
   "metadata": {},
   "outputs": [],
   "source": [
    "AUTOTUNE = tf.data.AUTOTUNE\n",
    "train_ds = train_ds.cache().shuffle(1000).prefetch(buffer_size=AUTOTUNE)\n",
    "val_ds = val_ds.cache().prefetch(buffer_size=AUTOTUNE)"
   ]
  },
  {
   "cell_type": "markdown",
   "id": "13704690",
   "metadata": {},
   "source": [
    "### Step 5: Machine Learning model"
   ]
  },
  {
   "cell_type": "code",
   "execution_count": null,
   "id": "83be72e7",
   "metadata": {},
   "outputs": [],
   "source": [
    "# Build the CNN model\n",
    "model = tf.keras.Sequential([\n",
    "    tf.keras.layers.Rescaling(1./255, input_shape=(180, 180, 3)),\n",
    "    tf.keras.layers.Conv2D(32, 3, activation='relu'),\n",
    "    tf.keras.layers.MaxPooling2D(),\n",
    "    tf.keras.layers.Conv2D(64, 3, activation='relu'),\n",
    "    tf.keras.layers.MaxPooling2D(),\n",
    "    tf.keras.layers.Conv2D(128, 3, activation='relu'),\n",
    "    tf.keras.layers.MaxPooling2D(),\n",
    "    tf.keras.layers.Flatten(),\n",
    "    tf.keras.layers.Dense(128, activation='relu'),\n",
    "    tf.keras.layers.Dense(1)  # Binary classification (cat vs dog)\n",
    "])"
   ]
  },
  {
   "cell_type": "markdown",
   "id": "167bccf5",
   "metadata": {},
   "source": [
    "### Step 6: Train the ML model"
   ]
  },
  {
   "cell_type": "code",
   "execution_count": null,
   "id": "1c1bec15",
   "metadata": {},
   "outputs": [],
   "source": [
    "# Compile the model\n",
    "model.compile(\n",
    "    optimizer='adam',\n",
    "    loss=tf.keras.losses.BinaryCrossentropy(from_logits=True),\n",
    "    metrics=['accuracy']\n",
    ")\n",
    "\n",
    "# Train the model\n",
    "epochs = 5\n",
    "history = model.fit(train_ds, validation_data=val_ds, epochs=epochs)\n"
   ]
  },
  {
   "cell_type": "markdown",
   "id": "7def4f85",
   "metadata": {},
   "source": [
    "## Step 6: Evaluate the trained ML model"
   ]
  },
  {
   "cell_type": "code",
   "execution_count": null,
   "id": "e3076105",
   "metadata": {},
   "outputs": [],
   "source": [
    "# Evaluate\n",
    "loss, acc = model.evaluate(val_ds)\n",
    "print(f\"Validation accuracy: {acc:.2f}\")"
   ]
  }
 ],
 "metadata": {
  "kernelspec": {
   "display_name": "Python 3",
   "language": "python",
   "name": "python3"
  },
  "language_info": {
   "codemirror_mode": {
    "name": "ipython",
    "version": 3
   },
   "file_extension": ".py",
   "mimetype": "text/x-python",
   "name": "python",
   "nbconvert_exporter": "python",
   "pygments_lexer": "ipython3",
   "version": "3.10.8"
  }
 },
 "nbformat": 4,
 "nbformat_minor": 5
}
